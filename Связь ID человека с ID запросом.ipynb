{
 "cells": [
  {
   "cell_type": "code",
   "execution_count": 5,
   "metadata": {
    "collapsed": true
   },
   "outputs": [],
   "source": [
    "import pandas as pd\n",
    "import random as rn\n",
    "Data = pd.DataFrame(columns=['ID_People' , 'ID_Requests'])"
   ]
  },
  {
   "cell_type": "code",
   "execution_count": 8,
   "metadata": {
    "collapsed": false
   },
   "outputs": [],
   "source": [
    "people = pd.read_excel('people.xlsx')\n",
    "requests = pd.read_excel('Requests.xlsx')\n",
    "\n",
    "for i in range(people.shape[0]):\n",
    "    dict = {}\n",
    "    for j in range(rn.randint(3, 7)):\n",
    "        ID = rn.randint(0, requests.shape[0] - 1)\n",
    "        Data = Data.append({'ID_People': i, 'ID_Requests': ID}, ignore_index=True)"
   ]
  },
  {
   "cell_type": "code",
   "execution_count": 10,
   "metadata": {
    "collapsed": false
   },
   "outputs": [],
   "source": [
    "Data.to_excel('People_Requests.xlsx')"
   ]
  }
 ],
 "metadata": {
  "kernelspec": {
   "display_name": "Python 2",
   "language": "python",
   "name": "python2"
  },
  "language_info": {
   "codemirror_mode": {
    "name": "ipython",
    "version": 2
   },
   "file_extension": ".py",
   "mimetype": "text/x-python",
   "name": "python",
   "nbconvert_exporter": "python",
   "pygments_lexer": "ipython2",
   "version": "2.7.11"
  }
 },
 "nbformat": 4,
 "nbformat_minor": 0
}
