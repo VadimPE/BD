{
 "cells": [
  {
   "cell_type": "code",
   "execution_count": 10,
   "metadata": {
    "collapsed": true
   },
   "outputs": [],
   "source": [
    "import psycopg2 as ps\n",
    "import pandas as pd"
   ]
  },
  {
   "cell_type": "markdown",
   "metadata": {},
   "source": [
    "## 1) Подключимся к базе данных \"BD\""
   ]
  },
  {
   "cell_type": "code",
   "execution_count": 13,
   "metadata": {
    "collapsed": true
   },
   "outputs": [],
   "source": [
    "connection = ps.connect(database='BD', user='postgres', password='Plh19977', host='localhost') #Подсоеденение к серверу с БД\n",
    "cursor = connection.cursor()"
   ]
  },
  {
   "cell_type": "markdown",
   "metadata": {},
   "source": [
    "## 2) Создадим таблицу \"ID_KeyWord\" в БД и добавим в нее данные из файла \"key_word\"\n",
    "## 3) Пропишем ссылку на поле \"ID\" таблицы \"ID_Requests\" у поля \"IDRequest\" таблицы                   \"ID_KeyWord\""
   ]
  },
  {
   "cell_type": "code",
   "execution_count": 14,
   "metadata": {
    "collapsed": false,
    "scrolled": true
   },
   "outputs": [],
   "source": [
    "cursor.execute(\"CREATE TABLE ID_KeyWord(IDRequest INT NOT NULL REFERENCES ID_Requests(ID),Key_word VARCHAR(40) NOT NULL)\")\n",
    "connection.commit()"
   ]
  },
  {
   "cell_type": "markdown",
   "metadata": {},
   "source": [
    "## 4) Добавим в таблицу данные из \"ID_key.xlsx\""
   ]
  },
  {
   "cell_type": "code",
   "execution_count": 15,
   "metadata": {
    "collapsed": false
   },
   "outputs": [],
   "source": [
    "id_key = pd.read_excel('id_key.xlsx')\n",
    "for i in range(id_key.shape[0]):\n",
    "    line = \"INSERT INTO ID_KeyWord VALUES('\" + str(id_key['ID'][i]) + \"','\"  + id_key['Key word'][i] + \"')\"\n",
    "    cursor.execute(line)\n",
    "    connection.commit()"
   ]
  },
  {
   "cell_type": "code",
   "execution_count": 16,
   "metadata": {
    "collapsed": true
   },
   "outputs": [],
   "source": [
    "cursor.close()"
   ]
  }
 ],
 "metadata": {
  "kernelspec": {
   "display_name": "Python 2",
   "language": "python",
   "name": "python2"
  },
  "language_info": {
   "codemirror_mode": {
    "name": "ipython",
    "version": 2
   },
   "file_extension": ".py",
   "mimetype": "text/x-python",
   "name": "python",
   "nbconvert_exporter": "python",
   "pygments_lexer": "ipython2",
   "version": "2.7.11"
  }
 },
 "nbformat": 4,
 "nbformat_minor": 0
}
