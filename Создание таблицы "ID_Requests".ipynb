{
 "cells": [
  {
   "cell_type": "code",
   "execution_count": 1,
   "metadata": {
    "collapsed": true
   },
   "outputs": [],
   "source": [
    "import psycopg2 as ps\n",
    "import pandas as pd"
   ]
  },
  {
   "cell_type": "markdown",
   "metadata": {},
   "source": [
    "## 1) Подключимся к базе данных \"BD\""
   ]
  },
  {
   "cell_type": "code",
   "execution_count": 2,
   "metadata": {
    "collapsed": false
   },
   "outputs": [],
   "source": [
    "connection = ps.connect(database='BD', user='postgres', password='Plh19977', host='localhost') #Подсоеденение к серверу с БД\n",
    "cursor = connection.cursor()"
   ]
  },
  {
   "cell_type": "markdown",
   "metadata": {},
   "source": [
    "## 2) Создадим таблицу \"ID_Requests\" в БД и добавим в нее данные из файла \"Requests\""
   ]
  },
  {
   "cell_type": "code",
   "execution_count": 3,
   "metadata": {
    "collapsed": false
   },
   "outputs": [],
   "source": [
    "#Создание таблицу ID_Requests\n",
    "cursor.execute(\"CREATE TABLE ID_Requests(ID INT NOT NULL CONSTRAINT PK_ID_Requests PRIMARY KEY,Requests VARCHAR(100))\")\n",
    "connection.commit()"
   ]
  },
  {
   "cell_type": "code",
   "execution_count": 4,
   "metadata": {
    "collapsed": false
   },
   "outputs": [],
   "source": [
    "requests = pd.read_excel('Requests.xlsx') #Открытие файла с запросами\n",
    "for i in range(requests.shape[0]):\n",
    "    line = \"INSERT INTO ID_Requests VALUES('\" + str(i) + \"','\" + requests['Searches'][i] + \"')\" #Создание строки, добавления в БД\n",
    "    cursor.execute(line)\n",
    "connection.commit()"
   ]
  },
  {
   "cell_type": "code",
   "execution_count": 5,
   "metadata": {
    "collapsed": true
   },
   "outputs": [],
   "source": [
    "cursor.close()"
   ]
  }
 ],
 "metadata": {
  "kernelspec": {
   "display_name": "Python 2",
   "language": "python",
   "name": "python2"
  },
  "language_info": {
   "codemirror_mode": {
    "name": "ipython",
    "version": 2
   },
   "file_extension": ".py",
   "mimetype": "text/x-python",
   "name": "python",
   "nbconvert_exporter": "python",
   "pygments_lexer": "ipython2",
   "version": "2.7.11"
  }
 },
 "nbformat": 4,
 "nbformat_minor": 0
}
