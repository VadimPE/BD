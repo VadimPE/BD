{
 "cells": [
  {
   "cell_type": "code",
   "execution_count": 4,
   "metadata": {
    "collapsed": false,
    "scrolled": true
   },
   "outputs": [],
   "source": [
    "import pandas as pd\n",
    "import requests as rq"
   ]
  },
  {
   "cell_type": "markdown",
   "metadata": {},
   "source": [
    "## 1) Создадим словарь 'dictonary', в который добави самые популярные предлоги и союзы в поисковых запросах\n",
    "## 2) Создадим DataFrame, который преобразуем потом в exel файл"
   ]
  },
  {
   "cell_type": "code",
   "execution_count": 5,
   "metadata": {
    "collapsed": false
   },
   "outputs": [],
   "source": [
    "dictionary = {u'и', u'но', u'а', u'на', u'над', u'под', u'из' , u'перед', u'или', u'в', u'с', u'к', u'у', u'б', u'от', u'до', u'по'\n",
    "             u'из', u'при', u'около', u'через', u'после', u\"так\", u'же', u'как', u',', u'.'}\n",
    "id_key = pd.DataFrame(columns=['ID', 'Key word'])"
   ]
  },
  {
   "cell_type": "markdown",
   "metadata": {},
   "source": [
    "## 3)Распарсим запрос который хранится в searches['Searches'][i] на ключевые слова по разделителю ' '. После добавим ключевое слово и ID запроса в DataFrame (id_key) "
   ]
  },
  {
   "cell_type": "code",
   "execution_count": 6,
   "metadata": {
    "collapsed": false
   },
   "outputs": [],
   "source": [
    "searches = pd.read_excel('Requests.xlsx') #Считывание  найденных ссылок\n",
    "for i in range(searches.shape[0]):\n",
    "    key_word = searches['Searches'][i].split(' ') #разделение запроса на ключевые слова\n",
    "    for word in key_word:\n",
    "        if not(word in dictionary):\n",
    "            line = {'ID': i, 'Key word': word}\n",
    "            id_key = id_key.append(line, ignore_index='True')\n",
    "id_key.to_excel('id_key.xlsx')      "
   ]
  }
 ],
 "metadata": {
  "kernelspec": {
   "display_name": "Python 2",
   "language": "python",
   "name": "python2"
  },
  "language_info": {
   "codemirror_mode": {
    "name": "ipython",
    "version": 2
   },
   "file_extension": ".py",
   "mimetype": "text/x-python",
   "name": "python",
   "nbconvert_exporter": "python",
   "pygments_lexer": "ipython2",
   "version": "2.7.11"
  }
 },
 "nbformat": 4,
 "nbformat_minor": 0
}
