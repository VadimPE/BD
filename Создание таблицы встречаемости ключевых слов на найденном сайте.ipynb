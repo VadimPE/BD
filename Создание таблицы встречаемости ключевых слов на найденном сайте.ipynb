{
 "cells": [
  {
   "cell_type": "code",
   "execution_count": 1,
   "metadata": {
    "collapsed": true
   },
   "outputs": [],
   "source": [
    "import psycopg2 as ps\n",
    "import pandas as pd"
   ]
  },
  {
   "cell_type": "markdown",
   "metadata": {},
   "source": [
    "## 1) Подключимся к базе данных \"BD\""
   ]
  },
  {
   "cell_type": "code",
   "execution_count": 6,
   "metadata": {
    "collapsed": true
   },
   "outputs": [],
   "source": [
    "connection = ps.connect(database='BD', user='postgres', password='Plh19977', host='localhost') #Подсоеденение к серверу с БД\n",
    "cursor = connection.cursor()"
   ]
  },
  {
   "cell_type": "markdown",
   "metadata": {},
   "source": [
    "## 2) Создадим таблицу \"ID_Requests\" в БД и добавим в нее данные из файла \"Requests\""
   ]
  },
  {
   "cell_type": "code",
   "execution_count": 7,
   "metadata": {
    "collapsed": false
   },
   "outputs": [],
   "source": [
    "#Создание таблицу Key_url\n",
    "cursor.execute(\"CREATE TABLE Key_url(IDRequest INT NOT NULL REFERENCES ID_Requests(ID),Search_Engine VARCHAR(20), URL_page VARCHAR(500), Key_word VARCHAR(20), Presence VARCHAR(6))\")\n",
    "connection.commit()"
   ]
  },
  {
   "cell_type": "code",
   "execution_count": 12,
   "metadata": {
    "collapsed": false
   },
   "outputs": [],
   "source": [
    "Frame = pd.read_excel(\"key_urls.xlsx\")\n",
    "for i in range(Frame.shape[0]):\n",
    "    line = \"INSERT INTO Key_url VALUES('\" + str(Frame['IDRequest'][i]) + \"','\"  + Frame['Search Engine'][i] + \"','\" + Frame['URL page'][i] + \"','\" + Frame['Key word'][i] + \"','\" + str(Frame['Presence'][i]) + \"')\"\n",
    "    cursor.execute(line)\n",
    "    connection.commit()\n",
    "cursor.close()"
   ]
  }
 ],
 "metadata": {
  "kernelspec": {
   "display_name": "Python 2",
   "language": "python",
   "name": "python2"
  },
  "language_info": {
   "codemirror_mode": {
    "name": "ipython",
    "version": 2
   },
   "file_extension": ".py",
   "mimetype": "text/x-python",
   "name": "python",
   "nbconvert_exporter": "python",
   "pygments_lexer": "ipython2",
   "version": "2.7.11"
  }
 },
 "nbformat": 4,
 "nbformat_minor": 0
}
