{
 "cells": [
  {
   "cell_type": "code",
   "execution_count": 1,
   "metadata": {
    "collapsed": true
   },
   "outputs": [],
   "source": [
    "import psycopg2 as ps\n",
    "import pandas as pd"
   ]
  },
  {
   "cell_type": "code",
   "execution_count": 23,
   "metadata": {
    "collapsed": true
   },
   "outputs": [],
   "source": [
    "connection = ps.connect(database='BD', user='postgres', password='Plh19977', host='localhost') #Подсоеденение к серверу с БД\n",
    "cursor = connection.cursor()"
   ]
  },
  {
   "cell_type": "code",
   "execution_count": 24,
   "metadata": {
    "collapsed": false
   },
   "outputs": [],
   "source": [
    "cursor.execute(\"CREATE TABLE People(ID INT NOT NULL CONSTRAINT PK_ID_Reople PRIMARY KEY, COMPANY VARCHAR(60) NOT NULL, PHONE VARCHAR(8), NAME VARCHAR(20) NOT NULL, SURNAME VARCHAR(20), BIRTHDATE DATE NOT NULL)\")\n",
    "connection.commit()"
   ]
  },
  {
   "cell_type": "code",
   "execution_count": 25,
   "metadata": {
    "collapsed": false,
    "scrolled": true
   },
   "outputs": [],
   "source": [
    "people = pd.read_excel('people.xlsx')\n",
    "\n",
    "for i in range(people.shape[0]):\n",
    "    line = \"INSERT INTO People VALUES('\" + str(people['ID'][i]) + \"','\" + people['Company'][i] + \"','\" + people['Phone'][i] + \"','\" + people['Name'][i] + \"','\" + people['Surname'][i] + \"','\" + str(people['Birthdate'][i]) + \"')\"\n",
    "    cursor.execute(line)\n",
    "    connection.commit()    "
   ]
  },
  {
   "cell_type": "code",
   "execution_count": 26,
   "metadata": {
    "collapsed": true
   },
   "outputs": [],
   "source": [
    "cursor.close()"
   ]
  }
 ],
 "metadata": {
  "kernelspec": {
   "display_name": "Python 2",
   "language": "python",
   "name": "python2"
  },
  "language_info": {
   "codemirror_mode": {
    "name": "ipython",
    "version": 2
   },
   "file_extension": ".py",
   "mimetype": "text/x-python",
   "name": "python",
   "nbconvert_exporter": "python",
   "pygments_lexer": "ipython2",
   "version": "2.7.11"
  }
 },
 "nbformat": 4,
 "nbformat_minor": 0
}
