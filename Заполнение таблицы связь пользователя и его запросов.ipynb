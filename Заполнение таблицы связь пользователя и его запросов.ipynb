{
 "cells": [
  {
   "cell_type": "code",
   "execution_count": 19,
   "metadata": {
    "collapsed": true
   },
   "outputs": [],
   "source": [
    "import pandas as pd\n",
    "import psycopg2 as ps"
   ]
  },
  {
   "cell_type": "code",
   "execution_count": 20,
   "metadata": {
    "collapsed": false
   },
   "outputs": [],
   "source": [
    "Data = pd.read_excel('People_Requests.xlsx')\n",
    "connection = ps.connect(database='BD', user='postgres', password='Plh19977', host='localhost') #Подсоеденение к серверу с БД\n",
    "cursor = connection.cursor()"
   ]
  },
  {
   "cell_type": "code",
   "execution_count": 21,
   "metadata": {
    "collapsed": false
   },
   "outputs": [],
   "source": [
    "cursor.execute(\"CREATE TABLE People_Requests(ID_People  INT NOT NULL REFERENCES People(ID), IDRequest INT NOT NULL REFERENCES ID_Requests(ID))\")\n",
    "connection.commit()"
   ]
  },
  {
   "cell_type": "code",
   "execution_count": 22,
   "metadata": {
    "collapsed": false
   },
   "outputs": [],
   "source": [
    "for i in range(Data.shape[0]):\n",
    "    line = \"INSERT INTO People_Requests VALUES('\" + str(Data['ID_People'][i]) + \"','\" + str(Data['ID_Requests'][i]) + \"')\"\n",
    "    cursor.execute(line)\n",
    "    connection.commit()\n",
    "cursor.close()    "
   ]
  }
 ],
 "metadata": {
  "kernelspec": {
   "display_name": "Python 2",
   "language": "python",
   "name": "python2"
  },
  "language_info": {
   "codemirror_mode": {
    "name": "ipython",
    "version": 2
   },
   "file_extension": ".py",
   "mimetype": "text/x-python",
   "name": "python",
   "nbconvert_exporter": "python",
   "pygments_lexer": "ipython2",
   "version": "2.7.11"
  }
 },
 "nbformat": 4,
 "nbformat_minor": 0
}
